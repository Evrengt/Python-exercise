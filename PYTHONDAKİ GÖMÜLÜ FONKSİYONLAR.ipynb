{
 "cells": [
  {
   "cell_type": "markdown",
   "id": "f4c52de9",
   "metadata": {},
   "source": [
    "# Dikdörtgenlerin kenar uzunluklarının [(3,4),(10,3),(5,6),(1,9)] olduğu bir listede map fonksiyonu kullanılarak dikdörtgenin alanını bulma ve yeni listede tüm alanları yazdırma "
   ]
  },
  {
   "cell_type": "code",
   "execution_count": 9,
   "id": "b1bd25d4",
   "metadata": {},
   "outputs": [
    {
     "name": "stdout",
     "output_type": "stream",
     "text": [
      "[12, 30, 30, 9]\n"
     ]
    }
   ],
   "source": [
    "def alan_hesapla(demet):\n",
    "    return demet[0] * demet[1]\n",
    "\n",
    "\n",
    "liste = [(3,4),(10,3),(5,6),(1,9)]\n",
    "\n",
    "print(list(map(alan_hesapla,liste)))"
   ]
  },
  {
   "cell_type": "markdown",
   "id": "1fbfa1f4",
   "metadata": {},
   "source": [
    "# Her bir elemanı 3'lü bir demet olan bir listede - [(3,4,5),(6,8,10),(3,10,7)] - kenar uzunluklarına göre bu kenarların bir üçgen olup olmadığını dönen bir fonksiyon yazma ve üçgen belirten kenarları bulunduran listeyi ekrana yazdırma"
   ]
  },
  {
   "cell_type": "code",
   "execution_count": 10,
   "id": "483e884f",
   "metadata": {},
   "outputs": [
    {
     "name": "stdout",
     "output_type": "stream",
     "text": [
      "[(3, 4, 5), (6, 8, 10)]\n"
     ]
    }
   ],
   "source": [
    "def üçgen_mi(demet):\n",
    "    \n",
    "    if (abs(demet[0]+demet[1]) > demet[2] and abs(demet[0]+demet[2]) > demet[1] and abs(demet[1]+demet[2]) > demet[0]):\n",
    "        return True\n",
    "    else:\n",
    "        return False\n",
    "\n",
    "\n",
    "liste = [(3,4,5),(6,8,10),(3,10,7)]\n",
    "\n",
    "print(list(filter(üçgen_mi,liste)))"
   ]
  },
  {
   "cell_type": "markdown",
   "id": "e2ae1c93",
   "metadata": {},
   "source": [
    "# [1,2,3,4,5,6,7,8,9,10] listesindeki çift sayıların toplamını ekrana yazdıran bir fonksiyon yazma. * filter fonk ve reduce fonk kullan *"
   ]
  },
  {
   "cell_type": "code",
   "execution_count": 11,
   "id": "4acc4989",
   "metadata": {},
   "outputs": [
    {
     "name": "stdout",
     "output_type": "stream",
     "text": [
      "30\n"
     ]
    }
   ],
   "source": [
    "from functools import reduce\n",
    "liste = [1,2,3,4,5,6,7,8,9,10]\n",
    "\n",
    "filtre = list(filter(lambda x : x % 2 == 0,liste))\n",
    "\n",
    "print(reduce(lambda x,y : x + y,filtre))"
   ]
  },
  {
   "cell_type": "markdown",
   "id": "5c533fdb",
   "metadata": {},
   "source": [
    "# Bu iki listedeki isim ve soyismi sırasıyla eşleştirme ve alt alta yazdırma\n",
    "\n",
    "isimler -----> [\"Kerim\",\"Tarık\",\"Ezgi\",\"Kemal\",\"İlkay\",\"Şükran\",\"Merve\"]\n",
    "\n",
    "soyisimler -----> [\"Yılmaz\",\"Öztürk\",\"Dağdeviren\",\"Atatürk\",\"Dikmen\",\"Kaya\",\"Polat\"] "
   ]
  },
  {
   "cell_type": "code",
   "execution_count": 12,
   "id": "4c0120e3",
   "metadata": {},
   "outputs": [
    {
     "name": "stdout",
     "output_type": "stream",
     "text": [
      "Kerim Yılmaz\n",
      "Tarık Öztürk\n",
      "Ezgi Dağdeviren\n",
      "Kemal Atatürk\n",
      "İlkay Dikmen\n",
      "Şükran Kaya\n",
      "Merve Polat\n"
     ]
    }
   ],
   "source": [
    "isimler = [\"Kerim\",\"Tarık\",\"Ezgi\",\"Kemal\",\"İlkay\",\"Şükran\",\"Merve\"]\n",
    "\n",
    "soyisimler = [\"Yılmaz\",\"Öztürk\",\"Dağdeviren\",\"Atatürk\",\"Dikmen\",\"Kaya\",\"Polat\"]\n",
    "\n",
    "for i,j in zip(isimler,soyisimler):\n",
    "    print(i,j)"
   ]
  }
 ],
 "metadata": {
  "kernelspec": {
   "display_name": "Python 3 (ipykernel)",
   "language": "python",
   "name": "python3"
  },
  "language_info": {
   "codemirror_mode": {
    "name": "ipython",
    "version": 3
   },
   "file_extension": ".py",
   "mimetype": "text/x-python",
   "name": "python",
   "nbconvert_exporter": "python",
   "pygments_lexer": "ipython3",
   "version": "3.9.13"
  }
 },
 "nbformat": 4,
 "nbformat_minor": 5
}
