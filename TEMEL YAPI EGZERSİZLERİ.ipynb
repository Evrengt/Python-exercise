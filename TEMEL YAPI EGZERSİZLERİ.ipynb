{
 "cells": [
  {
   "cell_type": "markdown",
   "id": "89907723",
   "metadata": {},
   "source": [
    "# Kullanıcı tarafından girilen ad soyad ve takım değerlerini kaydetme"
   ]
  },
  {
   "cell_type": "code",
   "execution_count": 1,
   "id": "46346c35",
   "metadata": {},
   "outputs": [
    {
     "name": "stdout",
     "output_type": "stream",
     "text": [
      "Oyuncu Kaydetme Programı\n",
      "Oyuncunun adı: Lebron\n",
      "Oyuncunun soyadı: James\n",
      "Oyuncunun takım adı: Lakers\n",
      "Bilgiler kaydediliyor.....\n",
      "Oyuncunun adı: Lebron\n",
      " Oyuncunun soyadı: James\n",
      " Oyuncunun takım adı: Lakers\n",
      "\n",
      "Bilgiler kaydedildi\n"
     ]
    }
   ],
   "source": [
    "print('Oyuncu Kaydetme Programı')\n",
    "\n",
    "ad = input('Oyuncunun adı: ')\n",
    "soyad = input('Oyuncunun soyadı: ')\n",
    "takım = input('Oyuncunun takım adı: ')\n",
    "\n",
    "bilgiler = [ad, soyad, takım]\n",
    "\n",
    "print('Bilgiler kaydediliyor.....')\n",
    "\n",
    "print('Oyuncunun adı: {}\\n Oyuncunun soyadı: {}\\n Oyuncunun takım adı: {}\\n'.format(bilgiler[0],bilgiler[1],bilgiler[2]))\n",
    "\n",
    "print('Bilgiler kaydedildi')"
   ]
  },
  {
   "cell_type": "markdown",
   "id": "f1e1fcb7",
   "metadata": {},
   "source": [
    "# Kullanıcı tarafından girilen 3 değerin formül yardımıyla köklerini bulma"
   ]
  },
  {
   "cell_type": "code",
   "execution_count": 2,
   "id": "b40cd114",
   "metadata": {},
   "outputs": [
    {
     "name": "stdout",
     "output_type": "stream",
     "text": [
      "a:1\n",
      "b:2\n",
      "c:1\n",
      "Birinci kök: -1.0\n",
      "İkinci kök: -1.0\n",
      "\n"
     ]
    }
   ],
   "source": [
    "a = int(input('a:'))\n",
    "b = int(input('b:'))\n",
    "c = int(input('c:'))\n",
    "\n",
    "delta = b ** 2 - 4 * a * c\n",
    "\n",
    "x1 = (- b - delta ** 0.5) / (2 * a)\n",
    "x2 = (- b + delta ** 0.5) / (2 * a)\n",
    "\n",
    "print('Birinci kök: {}\\nİkinci kök: {}\\n'.format (x1,x2))"
   ]
  },
  {
   "cell_type": "markdown",
   "id": "d21c74ff",
   "metadata": {},
   "source": [
    "# Kullanıcıdan alınan 3 tane sayıyı çarparak format metoduyla ekrana yazdırma"
   ]
  },
  {
   "cell_type": "code",
   "execution_count": 5,
   "id": "16b222f7",
   "metadata": {},
   "outputs": [
    {
     "name": "stdout",
     "output_type": "stream",
     "text": [
      "a: 3\n",
      "b: 4\n",
      "c: 5\n",
      "3 x 4 x 5 = 60 \n"
     ]
    }
   ],
   "source": [
    "a = int(input('a: '))\n",
    "b = int(input('b: '))\n",
    "c = int(input('c: '))\n",
    "\n",
    "çarpım = a * b * c\n",
    "\n",
    "print(\"{} x {} x {} = {} \".format(a,b,c,çarpım))"
   ]
  },
  {
   "cell_type": "markdown",
   "id": "14cb15b8",
   "metadata": {},
   "source": [
    "# Kullanıcıdan alınan boy kilo değerleriyle vücut kitle index hesaplama"
   ]
  },
  {
   "cell_type": "code",
   "execution_count": 6,
   "id": "8b4c80c5",
   "metadata": {},
   "outputs": [
    {
     "name": "stdout",
     "output_type": "stream",
     "text": [
      "Boy: 1.95\n",
      "Kilo: 94\n",
      "Vücut kitle indeksi:  24.720578566732414\n"
     ]
    }
   ],
   "source": [
    "boy = float(input('Boy: '))\n",
    "kilo = int(input('Kilo: '))\n",
    "\n",
    "print('Vücut kitle indeksi: ', kilo / (boy ** 2))"
   ]
  },
  {
   "cell_type": "markdown",
   "id": "f62774c0",
   "metadata": {},
   "source": [
    "# Bir aracın kilometrede ne kadar yaktığı ve kaç kilometre yol yaptığı bilgilerini alarak ne kadar toplam ödeme yaptığını hesaplama"
   ]
  },
  {
   "cell_type": "code",
   "execution_count": 8,
   "id": "0593d1c9",
   "metadata": {},
   "outputs": [
    {
     "name": "stdout",
     "output_type": "stream",
     "text": [
      "Yakan Miktar: 0.22\n",
      "Kaç kilometre yol yapıldı: 430\n",
      "Tutar: 94.6 tl\n"
     ]
    }
   ],
   "source": [
    "yakan_miktar = float(input('Yakan Miktar: '))\n",
    "kilometre = int(input('Kaç kilometre yol yapıldı: '))\n",
    "\n",
    "print('Tutar: {} tl'.format(yakan_miktar * kilometre))"
   ]
  },
  {
   "cell_type": "markdown",
   "id": "670b3f07",
   "metadata": {},
   "source": [
    "# Kullanıcıdan iki tane sayı alıp bu değerlerin yerini değiştirme"
   ]
  },
  {
   "cell_type": "code",
   "execution_count": 10,
   "id": "35f56c43",
   "metadata": {},
   "outputs": [
    {
     "name": "stdout",
     "output_type": "stream",
     "text": [
      "Birinci sayıyı giriniz: 1\n",
      "İkinci sayıyı giriniz: 2\n",
      "Yeni değerler\n",
      "a: 2\n",
      "b: 1\n",
      "\n"
     ]
    }
   ],
   "source": [
    "a = int(input('Birinci sayıyı giriniz: '))\n",
    "b = int(input('İkinci sayıyı giriniz: '))\n",
    "\n",
    "a,b = b,a\n",
    "\n",
    "print('Yeni değerler\\na: {}\\nb: {}\\n'.format(a,b))"
   ]
  },
  {
   "cell_type": "markdown",
   "id": "6974e1d3",
   "metadata": {},
   "source": [
    "# İki kenarı verilen dik üçgenin hipotenüsünü bulma"
   ]
  },
  {
   "cell_type": "code",
   "execution_count": 14,
   "id": "8185a27f",
   "metadata": {},
   "outputs": [
    {
     "name": "stdout",
     "output_type": "stream",
     "text": [
      "Birinci kenarın değerini giriniz: 3\n",
      "İkinci kenarın değerini giriniz: 4\n",
      "Hipotenüs uzunluğu: 5.0 cm\n"
     ]
    }
   ],
   "source": [
    "a = int(input('Birinci kenarın değerini giriniz: '))\n",
    "b = int(input('İkinci kenarın değerini giriniz: '))\n",
    "\n",
    "hipotenüs = (a ** 2 + b ** 2) ** 0.5\n",
    "\n",
    "print('Hipotenüs uzunluğu: {} cm'.format(hipotenüs))"
   ]
  }
 ],
 "metadata": {
  "kernelspec": {
   "display_name": "Python 3 (ipykernel)",
   "language": "python",
   "name": "python3"
  },
  "language_info": {
   "codemirror_mode": {
    "name": "ipython",
    "version": 3
   },
   "file_extension": ".py",
   "mimetype": "text/x-python",
   "name": "python",
   "nbconvert_exporter": "python",
   "pygments_lexer": "ipython3",
   "version": "3.9.13"
  }
 },
 "nbformat": 4,
 "nbformat_minor": 5
}
