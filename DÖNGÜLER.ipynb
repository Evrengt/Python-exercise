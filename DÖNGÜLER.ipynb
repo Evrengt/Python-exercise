{
 "cells": [
  {
   "cell_type": "markdown",
   "id": "766ddaec",
   "metadata": {},
   "source": [
    "# KULLANICI GİRİŞİ PROGRAMI"
   ]
  },
  {
   "cell_type": "code",
   "execution_count": 4,
   "id": "f89fab39",
   "metadata": {},
   "outputs": [
    {
     "name": "stdout",
     "output_type": "stream",
     "text": [
      "Kullanıcı adınız: eko\n",
      "Parolanız: edo\n",
      "Kullanıcı adı ve parola hatalı\n",
      "Kullanıcı adınız: evo\n",
      "Parolanız: evo1123\n",
      "Giriş yapıldı\n"
     ]
    }
   ],
   "source": [
    "sys_kullanıcı_adı = 'evo'\n",
    "sys_parola = 'evo1123'\n",
    "giriş_hakkı = 3 \n",
    "\n",
    "\n",
    "while True: \n",
    "    kullanıcı_adı = input('Kullanıcı adınız: ')\n",
    "    parola = input('Parolanız: ')\n",
    "\n",
    "    if(kullanıcı_adı != sys_kullanıcı_adı and parola == sys_parola):\n",
    "        print('Kullanıcı adı hatalı')\n",
    "        giriş_hakkı -= 1\n",
    "    elif(kullanıcı_adı == sys_kullanıcı_adı and parola != sys_parola):\n",
    "        print('Parola hatalı')\n",
    "        giriş_hakkı -= 1\n",
    "    elif(kullanıcı_adı != sys_kullanıcı_adı and parola != sys_parola):\n",
    "        print('Kullanıcı adı ve parola hatalı')\n",
    "        giriş_hakkı -= 1\n",
    "    else:\n",
    "        print('Giriş yapıldı')\n",
    "        break\n",
    "    if(giriş_hakkı == 0):\n",
    "        print('Giriş hakkı bitti')\n",
    "        break"
   ]
  },
  {
   "cell_type": "markdown",
   "id": "30926137",
   "metadata": {},
   "source": [
    "# ATM MAKİNASI OLUŞTURMA \n",
    "\n",
    "1 - Bakiye sorgulama\n",
    "2 - Para yatırma\n",
    "3 - Para çekme"
   ]
  },
  {
   "cell_type": "code",
   "execution_count": 8,
   "id": "ecacb2dc",
   "metadata": {
    "scrolled": true
   },
   "outputs": [
    {
     "name": "stdout",
     "output_type": "stream",
     "text": [
      "İşlem seçiniz: sdfsddfg\n",
      "Geçersiz işlem\n",
      "İşlem seçiniz: Bakiye sorgulama\n",
      "Bakiye miktarınız 1000 dir\n",
      "İşlem seçiniz: Para yatırma\n",
      "Miktarı giriniz: 1123\n",
      "İşlem seçiniz: Bakiye sorgulama\n",
      "Bakiye miktarınız 2123 dir\n",
      "İşlem seçiniz: Para çekme\n",
      "Miktarı giriniz: 50\n",
      "İşlem seçiniz: Bakiye sorgulama\n",
      "Bakiye miktarınız 2073 dir\n",
      "İşlem seçiniz: esc\n",
      "Hoşçakalın\n"
     ]
    }
   ],
   "source": [
    "bakiye = 1000\n",
    "\n",
    "while True: \n",
    "    işlem = input('İşlem seçiniz: ')\n",
    "    \n",
    "    if(işlem == 'esc'):\n",
    "        print('Hoşçakalın')\n",
    "        break\n",
    "    elif(işlem == 'Bakiye sorgulama'):\n",
    "        print('Bakiye miktarınız {} dir'.format(bakiye))\n",
    "    elif(işlem =='Para yatırma'):\n",
    "        miktar = int(input('Miktarı giriniz: '))\n",
    "        bakiye += miktar\n",
    "    elif(işlem =='Para çekme'):\n",
    "        miktar = int(input('Miktarı giriniz: '))\n",
    "        if(bakiye - miktar < 0):\n",
    "            print('Yanlış miktar girdiniz')\n",
    "            continue\n",
    "        bakiye -= miktar\n",
    "    else:\n",
    "        print('Geçersiz işlem')"
   ]
  },
  {
   "cell_type": "markdown",
   "id": "66ad4e9f",
   "metadata": {},
   "source": [
    "# FIBONACCI SERİSİ OLUŞTURMA"
   ]
  },
  {
   "cell_type": "code",
   "execution_count": 9,
   "id": "81b67065",
   "metadata": {},
   "outputs": [
    {
     "name": "stdout",
     "output_type": "stream",
     "text": [
      "[1, 1, 2, 3, 5, 8, 13, 21, 34, 55, 89, 144, 233, 377, 610, 987, 1597, 2584, 4181, 6765, 10946, 17711]\n"
     ]
    }
   ],
   "source": [
    "a = 1 \n",
    "b = 1\n",
    "\n",
    "fibonacci = [a,b]\n",
    "\n",
    "for i in range(20):\n",
    "    a,b = b,a+b\n",
    "    fibonacci.append(b)\n",
    "\n",
    "print(fibonacci)"
   ]
  },
  {
   "cell_type": "markdown",
   "id": "77c26398",
   "metadata": {},
   "source": [
    "# Kullanıcıdan alınan bir sayının mükemmel olup olmadığını bulma\n",
    "\n",
    "Örnek olarak, 6 mükemmel bir sayıdır. (1 + 2 + 3 = 6)"
   ]
  },
  {
   "cell_type": "code",
   "execution_count": 1,
   "id": "29bbb310",
   "metadata": {},
   "outputs": [
    {
     "name": "stdout",
     "output_type": "stream",
     "text": [
      "Sayıyı giriniz: 11\n",
      "11 mükemmel bir sayı değildir.\n"
     ]
    }
   ],
   "source": [
    "sayı = int(input(\"Sayıyı giriniz: \"))\n",
    "\n",
    "i = 1\n",
    "toplam = 0\n",
    "while (i < sayı):\n",
    "    if (sayı % i == 0):\n",
    "        toplam += i\n",
    "    i += 1\n",
    "\n",
    "if (toplam == sayı):\n",
    "    print(sayı,\"mükemmel bir sayıdır.\")\n",
    "else:\n",
    "    print(sayı,\"mükemmel bir sayı değildir.\")"
   ]
  },
  {
   "cell_type": "markdown",
   "id": "88b6b616",
   "metadata": {},
   "source": [
    "# Kullanıcıdan alınan bir sayının \"Armstrong\" sayısı olup olmadığını bulma\n",
    "\n",
    "Örnek olarak, Bir sayı eğer 4 basamaklı ise ve oluşturan rakamlardan herbirinin 4. kuvvetinin toplamı( 3 basamaklı sayılar için 3.kuvveti ) o sayıya eşitse\n",
    "\n",
    "Örnek olarak : 1634 = 1^4 + 6^4 + 3^4 + 4^4"
   ]
  },
  {
   "cell_type": "code",
   "execution_count": 3,
   "id": "afea48c4",
   "metadata": {},
   "outputs": [
    {
     "name": "stdout",
     "output_type": "stream",
     "text": [
      "Sayı:157\n",
      "157 bir armstrong sayısı değildir.\n"
     ]
    }
   ],
   "source": [
    "sayı = input(\"Sayı:\")\n",
    "basamak_sayisi = len(sayı)\n",
    "sayı = int(sayı)\n",
    "basamak = 0\n",
    "toplam = 0\n",
    "\n",
    "gecici_sayı = sayı\n",
    "\n",
    "while (gecici_sayı > 0):\n",
    "    \n",
    "    basamak = gecici_sayı % 10\n",
    "    \n",
    "    toplam += basamak ** basamak_sayisi\n",
    "    \n",
    "    gecici_sayı //= 10\n",
    "    \n",
    "\n",
    "if (toplam == sayı):\n",
    "    print(sayı,\"bir armstrong sayısıdır.\")\n",
    "else:\n",
    "    print(sayı,\"bir armstrong sayısı değildir.\")"
   ]
  },
  {
   "cell_type": "markdown",
   "id": "763b64fa",
   "metadata": {},
   "source": [
    "# 1'den 10'kadar olan sayılarla çarpım tablosu yapma\n",
    "\n",
    "İpucu: İç içe 2 tane for döngüsü kullanın. Aynı zamanda sayıları range() fonksiyonunu kullanarak elde edin."
   ]
  },
  {
   "cell_type": "code",
   "execution_count": 4,
   "id": "a85515a8",
   "metadata": {
    "scrolled": true
   },
   "outputs": [
    {
     "name": "stdout",
     "output_type": "stream",
     "text": [
      "*************************************************\n",
      "1 x 1 = 1\n",
      "1 x 2 = 2\n",
      "1 x 3 = 3\n",
      "1 x 4 = 4\n",
      "1 x 5 = 5\n",
      "1 x 6 = 6\n",
      "1 x 7 = 7\n",
      "1 x 8 = 8\n",
      "1 x 9 = 9\n",
      "1 x 10 = 10\n",
      "*************************************************\n",
      "2 x 1 = 2\n",
      "2 x 2 = 4\n",
      "2 x 3 = 6\n",
      "2 x 4 = 8\n",
      "2 x 5 = 10\n",
      "2 x 6 = 12\n",
      "2 x 7 = 14\n",
      "2 x 8 = 16\n",
      "2 x 9 = 18\n",
      "2 x 10 = 20\n",
      "*************************************************\n",
      "3 x 1 = 3\n",
      "3 x 2 = 6\n",
      "3 x 3 = 9\n",
      "3 x 4 = 12\n",
      "3 x 5 = 15\n",
      "3 x 6 = 18\n",
      "3 x 7 = 21\n",
      "3 x 8 = 24\n",
      "3 x 9 = 27\n",
      "3 x 10 = 30\n",
      "*************************************************\n",
      "4 x 1 = 4\n",
      "4 x 2 = 8\n",
      "4 x 3 = 12\n",
      "4 x 4 = 16\n",
      "4 x 5 = 20\n",
      "4 x 6 = 24\n",
      "4 x 7 = 28\n",
      "4 x 8 = 32\n",
      "4 x 9 = 36\n",
      "4 x 10 = 40\n",
      "*************************************************\n",
      "5 x 1 = 5\n",
      "5 x 2 = 10\n",
      "5 x 3 = 15\n",
      "5 x 4 = 20\n",
      "5 x 5 = 25\n",
      "5 x 6 = 30\n",
      "5 x 7 = 35\n",
      "5 x 8 = 40\n",
      "5 x 9 = 45\n",
      "5 x 10 = 50\n",
      "*************************************************\n",
      "6 x 1 = 6\n",
      "6 x 2 = 12\n",
      "6 x 3 = 18\n",
      "6 x 4 = 24\n",
      "6 x 5 = 30\n",
      "6 x 6 = 36\n",
      "6 x 7 = 42\n",
      "6 x 8 = 48\n",
      "6 x 9 = 54\n",
      "6 x 10 = 60\n",
      "*************************************************\n",
      "7 x 1 = 7\n",
      "7 x 2 = 14\n",
      "7 x 3 = 21\n",
      "7 x 4 = 28\n",
      "7 x 5 = 35\n",
      "7 x 6 = 42\n",
      "7 x 7 = 49\n",
      "7 x 8 = 56\n",
      "7 x 9 = 63\n",
      "7 x 10 = 70\n",
      "*************************************************\n",
      "8 x 1 = 8\n",
      "8 x 2 = 16\n",
      "8 x 3 = 24\n",
      "8 x 4 = 32\n",
      "8 x 5 = 40\n",
      "8 x 6 = 48\n",
      "8 x 7 = 56\n",
      "8 x 8 = 64\n",
      "8 x 9 = 72\n",
      "8 x 10 = 80\n",
      "*************************************************\n",
      "9 x 1 = 9\n",
      "9 x 2 = 18\n",
      "9 x 3 = 27\n",
      "9 x 4 = 36\n",
      "9 x 5 = 45\n",
      "9 x 6 = 54\n",
      "9 x 7 = 63\n",
      "9 x 8 = 72\n",
      "9 x 9 = 81\n",
      "9 x 10 = 90\n",
      "*************************************************\n",
      "10 x 1 = 10\n",
      "10 x 2 = 20\n",
      "10 x 3 = 30\n",
      "10 x 4 = 40\n",
      "10 x 5 = 50\n",
      "10 x 6 = 60\n",
      "10 x 7 = 70\n",
      "10 x 8 = 80\n",
      "10 x 9 = 90\n",
      "10 x 10 = 100\n"
     ]
    }
   ],
   "source": [
    "for i in range(1,11):\n",
    "    print(\"*************************************************\")\n",
    "    for j in range(1,11):\n",
    "        \n",
    "        print(\"{} x {} = {}\".format(i,j,i*j))"
   ]
  },
  {
   "cell_type": "markdown",
   "id": "92834a19",
   "metadata": {},
   "source": [
    "# Her bir while döngüsünde kullanıcıdan bir sayı alın ve kullanıcının girdiği sayıları \"toplam\" isimli bir değişkene ekleyin. Kullanıcı \"q\" tuşuna bastığı zaman döngüyü sonlandırın ve ekrana \"toplam değişkenini\" bastırın.\n",
    "\n",
    "İpucu : while döngüsünü sonsuz koşulla başlatın ve kullanıcı q'ya basarsa döngüyü break ile sonlandırın."
   ]
  },
  {
   "cell_type": "code",
   "execution_count": 5,
   "id": "70e63c95",
   "metadata": {},
   "outputs": [
    {
     "name": "stdout",
     "output_type": "stream",
     "text": [
      "Sayı:619\n",
      "Sayı:123\n",
      "Sayı:523\n",
      "Sayı:q\n",
      "Girdiğiniz Sayıların Toplamı: 1265\n"
     ]
    }
   ],
   "source": [
    "toplam = 0\n",
    "\n",
    "while True:\n",
    "    \n",
    "    sayı = input(\"Sayı:\")\n",
    "    \n",
    "    if (sayı == \"q\"):\n",
    "        break\n",
    "    sayı = int(sayı)\n",
    "    \n",
    "    toplam += sayı\n",
    "    \n",
    "print(\"Girdiğiniz Sayıların Toplamı:\",toplam)"
   ]
  },
  {
   "cell_type": "markdown",
   "id": "e77b2355",
   "metadata": {},
   "source": [
    "# 1'den 50'ye kadar olan sayılardan sadece 3'e bölünen sayıları continue kullanarak yapma"
   ]
  },
  {
   "cell_type": "code",
   "execution_count": 6,
   "id": "1b1507e8",
   "metadata": {},
   "outputs": [
    {
     "name": "stdout",
     "output_type": "stream",
     "text": [
      "3\n",
      "6\n",
      "9\n",
      "12\n",
      "15\n",
      "18\n",
      "21\n",
      "24\n",
      "27\n",
      "30\n",
      "33\n",
      "36\n",
      "39\n",
      "42\n",
      "45\n",
      "48\n"
     ]
    }
   ],
   "source": [
    "for i in range(1,51):\n",
    "    \n",
    "    if (i % 3 != 0):\n",
    "        continue\n",
    "    print(i)"
   ]
  },
  {
   "cell_type": "markdown",
   "id": "67ce0609",
   "metadata": {},
   "source": [
    "# List comprehension kullanarak 1'den 100'e kadar olan sayılardan sadece çift sayıları bir listeye atma"
   ]
  },
  {
   "cell_type": "code",
   "execution_count": 7,
   "id": "cca6ae47",
   "metadata": {},
   "outputs": [
    {
     "name": "stdout",
     "output_type": "stream",
     "text": [
      "[2, 4, 6, 8, 10, 12, 14, 16, 18, 20, 22, 24, 26, 28, 30, 32, 34, 36, 38, 40, 42, 44, 46, 48, 50, 52, 54, 56, 58, 60, 62, 64, 66, 68, 70, 72, 74, 76, 78, 80, 82, 84, 86, 88, 90, 92, 94, 96, 98, 100]\n"
     ]
    }
   ],
   "source": [
    "liste = [x for x in range(1,101) if x % 2 == 0]\n",
    "print(liste)"
   ]
  }
 ],
 "metadata": {
  "kernelspec": {
   "display_name": "Python 3 (ipykernel)",
   "language": "python",
   "name": "python3"
  },
  "language_info": {
   "codemirror_mode": {
    "name": "ipython",
    "version": 3
   },
   "file_extension": ".py",
   "mimetype": "text/x-python",
   "name": "python",
   "nbconvert_exporter": "python",
   "pygments_lexer": "ipython3",
   "version": "3.9.13"
  }
 },
 "nbformat": 4,
 "nbformat_minor": 5
}
