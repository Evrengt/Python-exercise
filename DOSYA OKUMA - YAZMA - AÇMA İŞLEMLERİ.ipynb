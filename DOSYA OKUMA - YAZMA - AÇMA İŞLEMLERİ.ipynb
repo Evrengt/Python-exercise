{
 "cells": [
  {
   "cell_type": "markdown",
   "id": "84887045",
   "metadata": {},
   "source": [
    "# BİR DOSYAYI OKUTARAK NOT HESAPLAMA"
   ]
  },
  {
   "cell_type": "code",
   "execution_count": null,
   "id": "f401ba2a",
   "metadata": {},
   "outputs": [],
   "source": [
    "def not_hesapla(satır):\n",
    "\n",
    "\n",
    "    satır = satır[:-1]\n",
    "\n",
    "    liste = satır.split(\",\")\n",
    "\n",
    "    isim = liste[0]\n",
    "\n",
    "    not1 = int(liste[1])\n",
    "\n",
    "    not2 = int(liste[2])\n",
    "\n",
    "    not3 = int(liste[3])\n",
    "\n",
    "    son_not = not1 * (3/10) + not2 * (3/10) + not3 * (4/10)\n",
    "\n",
    "    if (son_not >= 90):\n",
    "\n",
    "        harf = \"AA\"\n",
    "    elif (son_not >= 85):\n",
    "        harf = \"BA\"\n",
    "    elif (son_not >= 80):\n",
    "        harf = \"BB\"\n",
    "    elif (son_not >= 75):\n",
    "        harf = \"CB\"\n",
    "    elif (son_not >= 70):\n",
    "        harf = \"CC\"\n",
    "    elif (son_not >= 65):\n",
    "        harf = \"DC\"\n",
    "    elif (son_not >= 60):\n",
    "        harf = \"DD\"\n",
    "    elif (son_not >= 55):\n",
    "        harf = \"FD\"\n",
    "    else:\n",
    "        harf = \"FF\"\n",
    "\n",
    "    return isim + \"------------------> \" + harf + \"\\n\"\n",
    "\n",
    "\n",
    "\n",
    "\n",
    "\n",
    "\n",
    "\n",
    "with open(\"dosya.txt\",\"r\",encoding= \"utf-8\") as file:\n",
    "\n",
    "    eklenecekler_listesi = []\n",
    "\n",
    "    for i in file:\n",
    "\n",
    "        eklenecekler_listesi.append(not_hesapla(i))\n",
    "\n",
    "    with open(\"notlar.txt\",\"w\",encoding=\"utf-8\") as file2:\n",
    "\n",
    "        for i in eklenecekler_listesi:\n",
    "            file2.write(i)"
   ]
  },
  {
   "cell_type": "markdown",
   "id": "2a252c0e",
   "metadata": {},
   "source": [
    "# BJK - GS -FB Futbolcuların bulunduğu bir dosyayı sadece BJK , GS , FB oyuncuları olarak bölecek şekilde 3 farklı dosya oluşturun."
   ]
  },
  {
   "cell_type": "code",
   "execution_count": null,
   "id": "34088b26",
   "metadata": {},
   "outputs": [],
   "source": [
    "with open(\"futbolcular.txt\",\"r\",encoding=\"utf-8\") as file:\n",
    "    gs = list()\n",
    "    bjk = list()\n",
    "    fb = list()\n",
    "    \n",
    "    for satır in file:\n",
    "        satır = satır[:-1]\n",
    "        satır_elemanları = satır.split(\",\")\n",
    "        if (satır_elemanları[1] == \"Fenerbahçe\"):\n",
    "            fb.append(satır + \"\\n\")\n",
    "        elif (satır_elemanları[1] == \"Galatasaray\"):\n",
    "            gs.append(satır + \"\\n\")\n",
    "\n",
    "        else:\n",
    "            bjk.append(satır + \"\\n\")\n",
    "    with open(\"gs.txt\",\"w\",encoding=\"utf-8\") as file1:\n",
    "        for i in gs:\n",
    "            file1.write(i)\n",
    "            \n",
    "            \n",
    "\n",
    "    with open(\"fb.txt\",\"w\",encoding=\"utf-8\") as file2:\n",
    "        for i in fb:\n",
    "            file2.write(i)\n",
    "    with open(\"bjk.txt\",\"w\",encoding=\"utf-8\") as file3:\n",
    "        for i in bjk:\n",
    "            file3.write(i)"
   ]
  }
 ],
 "metadata": {
  "kernelspec": {
   "display_name": "Python 3 (ipykernel)",
   "language": "python",
   "name": "python3"
  },
  "language_info": {
   "codemirror_mode": {
    "name": "ipython",
    "version": 3
   },
   "file_extension": ".py",
   "mimetype": "text/x-python",
   "name": "python",
   "nbconvert_exporter": "python",
   "pygments_lexer": "ipython3",
   "version": "3.9.13"
  }
 },
 "nbformat": 4,
 "nbformat_minor": 5
}
