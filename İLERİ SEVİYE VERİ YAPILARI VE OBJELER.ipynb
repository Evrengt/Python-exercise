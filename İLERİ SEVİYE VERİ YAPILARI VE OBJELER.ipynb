{
 "cells": [
  {
   "cell_type": "markdown",
   "id": "0c0622b6",
   "metadata": {},
   "source": [
    "# Dosya şeklindeki bi metnin içindeki kelimeleri * nokta , virgül gibi elementlerden ayırarak , kelimelerin kaç kez geçtiğini bulma"
   ]
  },
  {
   "cell_type": "code",
   "execution_count": null,
   "id": "78c7d163",
   "metadata": {},
   "outputs": [],
   "source": [
    "class Dosya():\n",
    "\n",
    "    def __init__(self,dosya_ismi):\n",
    "\n",
    "        with open(dosya_ismi,\"r\",encoding = \"utf-8\") as file:\n",
    "\n",
    "            dosya_icerigi = file.read()\n",
    "            kelimeler = dosya_icerigi.split()\n",
    "\n",
    "            self.sade_kelimeler = list()\n",
    "\n",
    "            for kelime in kelimeler:\n",
    "                kelime = kelime.strip()\n",
    "                kelime = kelime.strip(\".\")\n",
    "                kelime = kelime.strip(\"\\n\")\n",
    "\n",
    "                self.sade_kelimeler.append(kelime)\n",
    "    def kelime_bul(self,aranan):\n",
    "\n",
    "        konumlar = list()\n",
    "        say = 1\n",
    "        for kelime in self.sade_kelimeler:\n",
    "            if (kelime == aranan ):\n",
    "                konumlar.append(say)\n",
    "\n",
    "            say += 1\n",
    "\n",
    "        if (len(konumlar) == 0):\n",
    "            print(\"Dosyada böyle bir kelime bulunmuyor...\")\n",
    "        else:\n",
    "\n",
    "            print(\"{} kelimesi dosyada şuralarda geçiyor. \\n{}\".format(aranan,konumlar))\n",
    "\n",
    "\n",
    "\n",
    "    def kelime_histogramı(self):\n",
    "\n",
    "        kelime_frekansı = dict()\n",
    "        kelime_kümesi = set()\n",
    "\n",
    "        for kelime in self.sade_kelimeler:\n",
    "            kelime_kümesi.add(kelime)\n",
    "            if (kelime in kelime_frekansı):\n",
    "                kelime_frekansı[kelime] += 1\n",
    "            else:\n",
    "                kelime_frekansı[kelime] = 1\n",
    "        print(\"Kelimelerin Frekansı........................\")\n",
    "        for i, j in kelime_frekansı.items():\n",
    "            print(\"{} kelimesi metinde {} defa geçiyor.\".format(i, j))\n",
    "\n",
    "        print(\"Tüm Kelimeler\")\n",
    "        for i in kelime_kümesi:\n",
    "            print(i)\n",
    "            print(\"*************************************\")\n",
    "\n",
    "\n",
    "dosya =  Dosya(\"dosya.txt\")\n",
    "print(\"\"\"****************\n",
    "\n",
    "Dosya İşlemleri \n",
    "\n",
    "1. Tüm kelime frekansını öğren\n",
    "\n",
    "2. Kelime Ara\n",
    "\n",
    "Çıkmak için 'q' ya basın.\n",
    "\n",
    "\"\"\")\n",
    "while True:\n",
    "    işlem = input(\"İşlem:\")\n",
    "\n",
    "    if (işlem == \"q\"):\n",
    "        print(\"Programdan Çıkılıyor....\")\n",
    "        break\n",
    "    elif (işlem == \"1\"):\n",
    "        dosya.kelime_histogramı()\n",
    "    elif (işlem == \"2\"):\n",
    "        kelime = input(\"Hangi kelimeyi arıyorsunuz ?\")\n",
    "        dosya.kelime_bul(kelime)\n",
    "    else:\n",
    "        print(\"Geçersiz İşlem...\")"
   ]
  },
  {
   "cell_type": "markdown",
   "id": "c0af7dc3",
   "metadata": {},
   "source": [
    "# \"ProgramlamaÖdeviİleriSeviyeVeriYapılarıveObjeleripynb\" stringinde harflerin kaç kez geçtiğini bulma"
   ]
  },
  {
   "cell_type": "code",
   "execution_count": 1,
   "id": "2e0ccdbe",
   "metadata": {
    "scrolled": true
   },
   "outputs": [
    {
     "name": "stdout",
     "output_type": "stream",
     "text": [
      "P : 1\n",
      "r : 6\n",
      "o : 1\n",
      "g : 1\n",
      "a : 5\n",
      "m : 2\n",
      "l : 4\n",
      "Ö : 1\n",
      "d : 1\n",
      "e : 8\n",
      "v : 3\n",
      "i : 5\n",
      "İ : 1\n",
      "S : 1\n",
      "y : 2\n",
      "V : 1\n",
      "Y : 1\n",
      "p : 2\n",
      "ı : 2\n",
      "O : 1\n",
      "b : 2\n",
      "j : 1\n",
      "n : 1\n"
     ]
    }
   ],
   "source": [
    "s =  \"ProgramlamaÖdeviİleriSeviyeVeriYapılarıveObjeleripynb\"\n",
    "frekans = dict()\n",
    "\n",
    "for karakter in s:\n",
    "    if (karakter in frekans):\n",
    "        frekans[karakter] += 1\n",
    "    else:\n",
    "        frekans[karakter] = 1\n",
    "for i,j in frekans.items():\n",
    "    \n",
    "    print(i,\":\",j)"
   ]
  },
  {
   "cell_type": "markdown",
   "id": "af49ac5d",
   "metadata": {},
   "source": [
    "# \"şiir.txt\" şeklinde bir dosya oluşturup sadece satırların baş harflerini birbirine ekleyerek bir string oluşturup yeni stringi ekrana yazdırma\n",
    "\n",
    "                    Memlekete sis çökmüş bir gece \n",
    "                    Usulca yanağıma sen düşüyorsun\n",
    "                    Sabah saat dokuzu beş geçe\n",
    "                    Terk edip bizleri gidiyorsun\n",
    "                    Ayrılık bu kadar yakmamıştı içimizi\n",
    "                    Farkında mısın bilmiyorum\n",
    "                    Aldın beraberinde cumhuriyetimizi\n",
    "                    Korkunç bir veda, sararmıştı her yer\n",
    "                    Ellerini uzat tutmak istiyoruz\n",
    "                    Masmavi gözleri kaybetmiş çocuk\n",
    "                    Aldı bir sabah ruhumuzu\n",
    "                    Lakin nasıl bölmesin yokluğun uykumuzu"
   ]
  },
  {
   "cell_type": "code",
   "execution_count": null,
   "id": "8856096e",
   "metadata": {},
   "outputs": [],
   "source": [
    "bas_harfler = \"\"\n",
    "\n",
    "with open(\"şiir.txt\",\"r\",encoding=\"utf-8\") as file:\n",
    "    for satır in file:\n",
    "        bas_harfler += satır[0]\n",
    "print(bas_harfler)"
   ]
  },
  {
   "cell_type": "markdown",
   "id": "214011c5",
   "metadata": {},
   "source": [
    "# Bir dosyanın her bir satırını okuyup sadece mail formatına uygun olanları ekrana yazdırma"
   ]
  },
  {
   "cell_type": "code",
   "execution_count": null,
   "id": "c32e2383",
   "metadata": {},
   "outputs": [],
   "source": [
    "with open(\"mailler.txt\",\"r\",encoding=\"utf-8\") as file:\n",
    "    for satır in file:\n",
    "        satır = satır[:-1]\n",
    "        if (satır.endswith(\".com\") and satır.find(\"@\") != -1):\n",
    "            print(satır)"
   ]
  },
  {
   "cell_type": "markdown",
   "id": "4c3570b6",
   "metadata": {},
   "source": [
    "# Bu iki listedeki isim ve soyisimleri birleştirerek bunları isimlere göre sıralı halde ekrana yazdırma\n",
    "\n",
    "isim -----> [\"Kerim\",\"Tarık\",\"Ezgi\",\"Kemal\",\"İlkay\",\"Şükran\",\"Merve\"]\n",
    "\n",
    "soyisim ------> [\"Yılmaz\",\"Öztürk\",\"Dağdeviren\",\"Atatürk\",\"Dikmen\",\"Kaya\",\"Polat\"]"
   ]
  },
  {
   "cell_type": "code",
   "execution_count": 2,
   "id": "8b53a1c7",
   "metadata": {},
   "outputs": [
    {
     "name": "stdout",
     "output_type": "stream",
     "text": [
      "Ezgi Dağdeviren\n",
      "Kemal Atatürk\n",
      "Kerim Yılmaz\n",
      "Merve Polat\n",
      "Tarık Öztürk\n",
      "İlkay Dikmen\n",
      "Şükran Kaya\n"
     ]
    }
   ],
   "source": [
    "isim = [\"Kerim\",\"Tarık\",\"Ezgi\",\"Kemal\",\"İlkay\",\"Şükran\",\"Merve\"]\n",
    "\n",
    "soyisim = [\"Yılmaz\",\"Öztürk\",\"Dağdeviren\",\"Atatürk\",\"Dikmen\",\"Kaya\",\"Polat\"]\n",
    "\n",
    "liste = list(zip(isim,soyisim))\n",
    "\n",
    "liste.sort()\n",
    "\n",
    "for i,j in liste:\n",
    "    print(i,j)"
   ]
  },
  {
   "cell_type": "code",
   "execution_count": null,
   "id": "6adf4186",
   "metadata": {},
   "outputs": [],
   "source": []
  }
 ],
 "metadata": {
  "kernelspec": {
   "display_name": "Python 3 (ipykernel)",
   "language": "python",
   "name": "python3"
  },
  "language_info": {
   "codemirror_mode": {
    "name": "ipython",
    "version": 3
   },
   "file_extension": ".py",
   "mimetype": "text/x-python",
   "name": "python",
   "nbconvert_exporter": "python",
   "pygments_lexer": "ipython3",
   "version": "3.9.13"
  }
 },
 "nbformat": 4,
 "nbformat_minor": 5
}
