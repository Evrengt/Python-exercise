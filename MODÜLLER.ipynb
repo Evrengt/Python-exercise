{
 "cells": [
  {
   "cell_type": "markdown",
   "id": "94fa5ed5",
   "metadata": {},
   "source": [
    "# Sayı tahmin etme modülü - 1 ile 40 arası"
   ]
  },
  {
   "cell_type": "code",
   "execution_count": 2,
   "id": "ac97757f",
   "metadata": {},
   "outputs": [
    {
     "name": "stdout",
     "output_type": "stream",
     "text": [
      "Tahmininiz:5\n",
      "Sayı Sorgulanıyor....\n",
      "Lütfen daha yüksek bir sayı söyleyin.\n",
      "Tahmin Hakkı: 6\n",
      "Tahmininiz:76\n",
      "Sayı Sorgulanıyor....\n",
      "Lütfen daha düşük bir sayı söyleyin.\n",
      "Tahmin Hakkı: 5\n",
      "Tahmininiz:23\n",
      "Sayı Sorgulanıyor....\n",
      "Lütfen daha düşük bir sayı söyleyin.\n",
      "Tahmin Hakkı: 4\n",
      "Tahmininiz:19\n",
      "Sayı Sorgulanıyor....\n",
      "Lütfen daha düşük bir sayı söyleyin.\n",
      "Tahmin Hakkı: 3\n",
      "Tahmininiz:5\n",
      "Sayı Sorgulanıyor....\n",
      "Lütfen daha yüksek bir sayı söyleyin.\n",
      "Tahmin Hakkı: 2\n",
      "Tahmininiz:9\n",
      "Sayı Sorgulanıyor....\n",
      "Tebrikler!\n",
      "Sayı 9\n"
     ]
    }
   ],
   "source": [
    "import random\n",
    "import time\n",
    "\n",
    "tahmin_hakkı = 7\n",
    "rastgele_sayı = random.randint(1,40)\n",
    "\n",
    "while True:\n",
    "    tahmin =  int(input(\"Tahmininiz:\"))\n",
    "\n",
    "    if (tahmin == rastgele_sayı):\n",
    "        print(\"Sayı Sorgulanıyor....\")\n",
    "        time.sleep(1)\n",
    "        print(\"Tebrikler!\")\n",
    "        print(\"Sayı\",rastgele_sayı)\n",
    "        break\n",
    "    elif(tahmin < rastgele_sayı):\n",
    "        print(\"Sayı Sorgulanıyor....\")\n",
    "        time.sleep(1)\n",
    "        tahmin_hakkı -= 1\n",
    "        print(\"Lütfen daha yüksek bir sayı söyleyin.\")\n",
    "        print(\"Tahmin Hakkı:\",tahmin_hakkı)\n",
    "    else:\n",
    "        print(\"Sayı Sorgulanıyor....\")\n",
    "        time.sleep(1)\n",
    "        tahmin_hakkı -= 1\n",
    "        print(\"Lütfen daha düşük bir sayı söyleyin.\")\n",
    "        print(\"Tahmin Hakkı:\",tahmin_hakkı)\n",
    "    if (tahmin_hakkı == 0 ):\n",
    "        print(\"Tahmin Hakkınız Bitti. Üzgünüz\")\n",
    "        print(\"Sayımız:\",rastgele_sayı)\n",
    "        break\n"
   ]
  },
  {
   "cell_type": "markdown",
   "id": "ed4378d7",
   "metadata": {},
   "source": [
    "# Math modülündeki hazır fonksiyonları kullanarak gelişmiş bir hesap makinesi geliştirme;\n",
    "\n",
    "Toplama = 1\n",
    "Çıkarma = 2\n",
    "Çarpma = 3\n",
    "Bölme = 4\n",
    "Üs almak için = 5\n",
    "Sayının karekökünü almak için = 6 \n",
    "Sayının logaritması için = 7"
   ]
  },
  {
   "cell_type": "code",
   "execution_count": null,
   "id": "f26213e8",
   "metadata": {},
   "outputs": [
    {
     "name": "stdout",
     "output_type": "stream",
     "text": [
      "İşleminizi giriniz : 3\n",
      " sayıyı giriniz : 24\n",
      " sayıyı giriniz : 5\n",
      "işleminiz yapılıyor...\n",
      "24 * 5 = 120 \n"
     ]
    }
   ],
   "source": [
    "import time\n",
    "import math\n",
    "\n",
    "while True:\n",
    "    işlem = int(input(\"İşleminizi giriniz : \"))\n",
    "\n",
    "    if(işlem == \"q\"):\n",
    "        print(\"işleminiz sonlandırılıyor...\")\n",
    "        time.sleep(2)\n",
    "        print(\"tekrar bekleriz ... \")\n",
    "        break\n",
    "\n",
    "    elif(işlem == 1):\n",
    "        sayı1 = int(input(\" sayıyı giriniz : \"))\n",
    "        sayı2 = int(input(\" sayıyı giriniz : \"))\n",
    "        print(\"işleminiz yapılıyor...\")\n",
    "        time.sleep(1)\n",
    "        print(\"{} + {} = {}\".format(sayı1,sayı2,sayı1+sayı2))\n",
    "\n",
    "    elif(işlem == 2):\n",
    "        sayı1 = int(input(\" sayıyı giriniz : \"))\n",
    "        sayı2 = int(input(\" sayıyı giriniz : \"))\n",
    "        print(\"işleminiz yapılıyor...\")\n",
    "        time.sleep(1)\n",
    "        print(\"{} - {} = {} \".format(sayı1,sayı2,sayı1-sayı2))\n",
    "\n",
    "    elif(işlem == 3):\n",
    "        sayı1 = int(input(\" sayıyı giriniz : \"))\n",
    "        sayı2 = int(input(\" sayıyı giriniz : \"))\n",
    "        print(\"işleminiz yapılıyor...\")\n",
    "        time.sleep(1)\n",
    "        print(\"{} * {} = {} \".format(sayı1,sayı2,sayı1*sayı2))\n",
    "\n",
    "    elif(işlem == 4):\n",
    "        sayı1 = int(input(\" sayıyı giriniz : \"))\n",
    "        sayı2 = int(input(\" sayıyı giriniz : \"))\n",
    "        print(\"işleminiz yapılıyor...\")\n",
    "        time.sleep(1)\n",
    "        print(\"{} / {} ={} \".format(sayı1,sayı2,sayı1/sayı2))\n",
    "\n",
    "    elif(işlem == 5):\n",
    "        sayı1 = int(input(\" sayının tabanını giriniz : \"))\n",
    "        sayı2 = int(input(\" üssü giriniz : \"))\n",
    "        print(\"işleminiz yapılıyor...\")\n",
    "        time.sleep(1)\n",
    "        x = math.pow(sayı1, sayı2)\n",
    "        print(\"{} üssü {} = {} \".format(sayı1,sayı2,math.pow(sayı1,sayı2)))\n",
    "\n",
    "    elif(işlem == 6):\n",
    "        sayı1 = int(input(\" sayıyı giriniz : \"))\n",
    "\n",
    "        print(\"işleminiz yapılıyor...\")\n",
    "        time.sleep(1)\n",
    "        x= math.sqrt(sayı1)\n",
    "        print(\"{} sayısının karekökü = {} \".format(sayı1,math.sqrt(sayı1)))\n",
    "        \n",
    "    elif(işlem == 7):\n",
    "        sayı1 = int(input(\" sayıyı giriniz : \"))\n",
    "        sayı2 = int(input(\" logaritmanın tabanını giriniz : \"))\n",
    "        print(\"işleminiz yapılıyor...\")\n",
    "        time.sleep(1)\n",
    "        print(\"{} sayısının {} tabanında logaritması = {} \".format(sayı1,sayı2,math.log(sayı1,sayı2)))\n"
   ]
  },
  {
   "cell_type": "code",
   "execution_count": null,
   "id": "88765d5e",
   "metadata": {},
   "outputs": [],
   "source": []
  }
 ],
 "metadata": {
  "kernelspec": {
   "display_name": "Python 3 (ipykernel)",
   "language": "python",
   "name": "python3"
  },
  "language_info": {
   "codemirror_mode": {
    "name": "ipython",
    "version": 3
   },
   "file_extension": ".py",
   "mimetype": "text/x-python",
   "name": "python",
   "nbconvert_exporter": "python",
   "pygments_lexer": "ipython3",
   "version": "3.9.13"
  }
 },
 "nbformat": 4,
 "nbformat_minor": 5
}
