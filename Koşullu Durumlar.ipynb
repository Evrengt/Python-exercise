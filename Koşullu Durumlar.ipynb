{
 "cells": [
  {
   "cell_type": "markdown",
   "id": "b525a9a4",
   "metadata": {},
   "source": [
    "# Basit bir hesap makinesi tasarlama"
   ]
  },
  {
   "cell_type": "code",
   "execution_count": 2,
   "id": "d8e2bb1b",
   "metadata": {},
   "outputs": [
    {
     "name": "stdout",
     "output_type": "stream",
     "text": [
      "Birinci sayıyı giriniz: 34\n",
      "İkinci sayıyı giriniz: 4\n",
      "İşlemi giriniz: +\n",
      "34 ile 4 toplamı: 38\n"
     ]
    }
   ],
   "source": [
    "a = int(input('Birinci sayıyı giriniz: '))\n",
    "b = int(input('İkinci sayıyı giriniz: '))\n",
    "işlem = input('İşlemi giriniz: ')\n",
    "\n",
    "if işlem == '+':\n",
    "    print('{} ile {} toplamı: {}'.format(a,b,a+b))\n",
    "elif işlem == '-':\n",
    "    print('{} ile {} farkı: {}'.format(a,b,a-b))\n",
    "elif işlem == '/':\n",
    "    print('{} ile {} bölümü: {}'.format(a,b,a/b))\n",
    "elif işlem == '*':\n",
    "    print('{} ile {} çarpımı: {}'.format(a,b,a*b))\n",
    "else:\n",
    "    print('Hatalı değer girdiniz!!')"
   ]
  },
  {
   "cell_type": "markdown",
   "id": "66b93300",
   "metadata": {},
   "source": [
    "# Kullanıcıdan alınan boy ve kilo değerlerine göre vücut kitle indeksi hesaplama ve değerlere göre ekrana farklı durumları yazma\n",
    "\n",
    " Beden Kitle İndeksi: Kilo / Boy(m) *  Boy(m)\n",
    "\n",
    " BKİ 18.5'un altındaysa -------> Zayıf\n",
    "\n",
    " BKİ 18.5 ile 25 arasındaysa ------> Normal\n",
    "\n",
    " BKİ 25 ile 30 arasındaysa --------> Fazla Kilolu\n",
    "\n",
    " BKİ 30'un üstündeyse -------------> Obez"
   ]
  },
  {
   "cell_type": "code",
   "execution_count": 13,
   "id": "39777915",
   "metadata": {},
   "outputs": [
    {
     "name": "stdout",
     "output_type": "stream",
     "text": [
      "Boyunuz: 1.93\n",
      "Kilonuz: 92\n",
      "Normalsiniz\n"
     ]
    }
   ],
   "source": [
    "boy = float(input('Boyunuz: '))\n",
    "kilo = int(input('Kilonuz: '))\n",
    "\n",
    "vki = kilo / (boy ** 2)\n",
    "\n",
    "if (vki < 18.5):\n",
    "    print('Zayıfsınız')\n",
    "elif (vki >= 18.5 and vki < 25):\n",
    "    print('Normalsiniz')\n",
    "elif (vki < 30 and vki >= 25):\n",
    "    print('Fazla kilolusunuz')\n",
    "else:\n",
    "    print('obezsiniz')"
   ]
  },
  {
   "cell_type": "markdown",
   "id": "e54358ab",
   "metadata": {},
   "source": [
    "# Kullanıcıdan alınan 3 sayıdan en büyük olanını ekrana yazdırma"
   ]
  },
  {
   "cell_type": "code",
   "execution_count": 14,
   "id": "266f282e",
   "metadata": {},
   "outputs": [
    {
     "name": "stdout",
     "output_type": "stream",
     "text": [
      "a:3\n",
      "b:4\n",
      "c:5\n",
      "En büyük sayı: 5\n"
     ]
    }
   ],
   "source": [
    "a =  int(input(\"a:\"))\n",
    "\n",
    "b = int(input(\"b:\"))\n",
    "\n",
    "c = int(input(\"c:\"))\n",
    "\n",
    "if (a >= b and a >= c):\n",
    "    print(\"En büyük sayı:\",a)\n",
    "elif (b >= a and b >= c):\n",
    "    print(\"En büyük sayı:\",b)\n",
    "elif (c >= a and c >= b):\n",
    "    print(\"En büyük sayı:\",c)"
   ]
  },
  {
   "cell_type": "markdown",
   "id": "42fb4a46",
   "metadata": {},
   "source": [
    "# Kullanıcının girdiği vize1,vize2,final notlarına göre harf notunu hesaplama\n",
    "\n",
    "    Vize1 toplam notun %30'una etki edecek.\n",
    "\n",
    "    Vize2 toplam notun %30'una etki edecek.\n",
    "\n",
    "    Final toplam notun %40'ına etki edecek.\n",
    "\n",
    "\n",
    "    Toplam Not >=  90 -----> AA\n",
    "\n",
    "    Toplam Not >=  85 -----> BA\n",
    "\n",
    "    Toplam Not >=  80 -----> BB\n",
    "\n",
    "    Toplam Not >=  75 -----> CB\n",
    "\n",
    "    Toplam Not >=  70 -----> CC\n",
    "\n",
    "    Toplam Not >=  65 -----> DC\n",
    "\n",
    "    Toplam Not >=  60 -----> DD\n",
    "\n",
    "    Toplam Not >=  55 -----> FD\n",
    "\n",
    "    Toplam Not <  55 -----> FF"
   ]
  },
  {
   "cell_type": "code",
   "execution_count": 15,
   "id": "caef442f",
   "metadata": {},
   "outputs": [
    {
     "name": "stdout",
     "output_type": "stream",
     "text": [
      "Birinci vize notunuz: 90\n",
      "İkinci vize notunuz: 77\n",
      "Final notunuz: 60\n",
      "CC\n"
     ]
    }
   ],
   "source": [
    "vize1 = int(input('Birinci vize notunuz: '))\n",
    "vize2 = int(input('İkinci vize notunuz: '))\n",
    "final = int(input('Final notunuz: '))\n",
    "\n",
    "genel_not =  vize1 * 3/10 + vize2 * 3/10 + final * 4/10\n",
    "\n",
    "if (genel_not >= 90):\n",
    "    print(\"AA\")\n",
    "elif (genel_not >= 85):\n",
    "    print(\"BA\")\n",
    "elif (genel_not >= 80):\n",
    "    print(\"BB\")\n",
    "elif (genel_not >= 75):\n",
    "    print(\"CB\")\n",
    "elif (genel_not >= 70):\n",
    "    print(\"CC\")\n",
    "elif (genel_not >= 65):\n",
    "    print(\"DC\")\n",
    "elif (genel_not >= 60):\n",
    "    print(\"DD\")\n",
    "elif (genel_not >= 55):\n",
    "    print(\"FD\")\n",
    "else:\n",
    "    print(\"FF\")"
   ]
  },
  {
   "cell_type": "markdown",
   "id": "5474e5b9",
   "metadata": {},
   "source": [
    "# Geometrik şekil hesaplama\n",
    "\n",
    "İlk olarak kullanıcıdan üçgenin mi dörtgenin mi tipini bulmak istediğini sorun.\n",
    "\n",
    "Eğer kullanıcı \"Dörtgen\" cevabını verirse , 4 tane kenar isteyip bu dörtgenin kare mi , dikdörtgen mi yoksa sıradan bir dörtgen mi olduğunu bulmaya çalışın.\n",
    "\n",
    "Eğer kullanıcı \"Üçgen\" cevabını verirse , 3 tane kenar isteyip bu üçgenin ikizkenar mı , eşkenar mı yoksa sıradan bir üçgen mi olduğunu bulmaya çalışın. Eğer verilen kenarlar bir üçgen belirtmiyorsa, ekrana \"Üçgen belirtmiyor\" şeklinde bir yazı yazın.\n",
    "\n",
    "abs() fonksiyonu ile mutlak değer gerekli yerleri kullanabilirsiniz. -- abs(-4) = 4 --"
   ]
  },
  {
   "cell_type": "code",
   "execution_count": 17,
   "id": "1c4f63ad",
   "metadata": {},
   "outputs": [
    {
     "name": "stdout",
     "output_type": "stream",
     "text": [
      "Şekli belirtiniz: Dörtgen\n",
      "Lütfen kenarları giriniz: \n",
      "1. Kenar: 4\n",
      "2. Kenar: 4\n",
      "3. Kenar: 4\n",
      "4. Kenar: 4\n",
      "Kare\n"
     ]
    }
   ],
   "source": [
    "şekil = input('Şekli belirtiniz: ')\n",
    "\n",
    "if (şekil == 'Dörtgen'):\n",
    "    print('Lütfen kenarları giriniz: ')\n",
    "    a = int(input('1. Kenar: '))\n",
    "    b = int(input('2. Kenar: '))\n",
    "    c = int(input('3. Kenar: '))\n",
    "    d = int(input('4. Kenar: '))\n",
    "    \n",
    "    if (a == b and a == c and a == d):\n",
    "        print('Kare')\n",
    "    elif (a == c and b == d):\n",
    "        print('Dikdörtgen')\n",
    "    else:\n",
    "        print('Dörtgen')\n",
    "\n",
    "        \n",
    "elif (şekil == 'Üçgen'):\n",
    "    print('Lütfen kenarları giriniz: ')\n",
    "    a = int(input('1. Kenar: '))\n",
    "    b = int(input('2. Kenar: '))\n",
    "    c = int(input('3. Kenar: '))\n",
    "    if ( abs(a+b) > c and abs(a+c) > b and abs(b+c) > a):\n",
    "        if (a == b and a == c ):\n",
    "            print(\"Eşkenar Üçgen...\")\n",
    "        elif ((a == b and a != c) or (a == c and a != b) or (b == c and b != a)):\n",
    "            print(\"İkizkenar Üçgen....\")\n",
    "        else:\n",
    "            print(\"Çeşitkenar Üçgen...\")\n",
    "    else:\n",
    "        print(\"Üçgen belirtmiyor...\")\n",
    "        \n",
    "else:\n",
    "    print(\"Geçersiz Şekil...\")"
   ]
  },
  {
   "cell_type": "code",
   "execution_count": null,
   "id": "0252cbae",
   "metadata": {},
   "outputs": [],
   "source": []
  }
 ],
 "metadata": {
  "kernelspec": {
   "display_name": "Python 3 (ipykernel)",
   "language": "python",
   "name": "python3"
  },
  "language_info": {
   "codemirror_mode": {
    "name": "ipython",
    "version": 3
   },
   "file_extension": ".py",
   "mimetype": "text/x-python",
   "name": "python",
   "nbconvert_exporter": "python",
   "pygments_lexer": "ipython3",
   "version": "3.9.13"
  }
 },
 "nbformat": 4,
 "nbformat_minor": 5
}
