{
 "cells": [
  {
   "cell_type": "markdown",
   "id": "13dd1eb4",
   "metadata": {},
   "source": [
    "# Try - except kullanarak kullanıcı tarafından girilen iki sayının error hatalarını kullanıcıya gösterme"
   ]
  },
  {
   "cell_type": "code",
   "execution_count": 1,
   "id": "ae26c27e",
   "metadata": {},
   "outputs": [
    {
     "name": "stdout",
     "output_type": "stream",
     "text": [
      "Sayı1: s\n",
      "Lütfen doğru input giriniz.\n"
     ]
    }
   ],
   "source": [
    "try: \n",
    "    a = int(input('Sayı1: '))\n",
    "    b = int(input('Sayı2: '))\n",
    "    print(a / b )\n",
    "except ValueError:\n",
    "    print('Lütfen doğru input giriniz.')\n",
    "except ZeroDivisionError:\n",
    "    print('Bir sayı 0 ile bölünemez.')"
   ]
  },
  {
   "cell_type": "markdown",
   "id": "0c89b6ea",
   "metadata": {},
   "source": [
    "# kullanıcı tarafından girilen iki sayının error hatalarını raise ile gösterme"
   ]
  },
  {
   "cell_type": "code",
   "execution_count": 2,
   "id": "6b4b07f4",
   "metadata": {},
   "outputs": [
    {
     "ename": "ValueError",
     "evalue": "Lütfen string bir değer gönderin.",
     "output_type": "error",
     "traceback": [
      "\u001b[1;31m---------------------------------------------------------------------------\u001b[0m",
      "\u001b[1;31mValueError\u001b[0m                                Traceback (most recent call last)",
      "Input \u001b[1;32mIn [2]\u001b[0m, in \u001b[0;36m<cell line: 6>\u001b[1;34m()\u001b[0m\n\u001b[0;32m      4\u001b[0m     \u001b[38;5;28;01melse\u001b[39;00m:\n\u001b[0;32m      5\u001b[0m         \u001b[38;5;28;01mreturn\u001b[39;00m s[::\u001b[38;5;241m-\u001b[39m\u001b[38;5;241m1\u001b[39m]\n\u001b[1;32m----> 6\u001b[0m \u001b[38;5;28mprint\u001b[39m(\u001b[43mterscevir\u001b[49m\u001b[43m(\u001b[49m\u001b[38;5;241;43m8\u001b[39;49m\u001b[43m)\u001b[49m)\n",
      "Input \u001b[1;32mIn [2]\u001b[0m, in \u001b[0;36mterscevir\u001b[1;34m(s)\u001b[0m\n\u001b[0;32m      1\u001b[0m \u001b[38;5;28;01mdef\u001b[39;00m \u001b[38;5;21mterscevir\u001b[39m(s):\n\u001b[0;32m      2\u001b[0m     \u001b[38;5;28;01mif\u001b[39;00m(\u001b[38;5;28mtype\u001b[39m(s) \u001b[38;5;241m!=\u001b[39m \u001b[38;5;28mstr\u001b[39m):\n\u001b[1;32m----> 3\u001b[0m         \u001b[38;5;28;01mraise\u001b[39;00m \u001b[38;5;167;01mValueError\u001b[39;00m(\u001b[38;5;124m'\u001b[39m\u001b[38;5;124mLütfen string bir değer gönderin.\u001b[39m\u001b[38;5;124m'\u001b[39m)\n\u001b[0;32m      4\u001b[0m     \u001b[38;5;28;01melse\u001b[39;00m:\n\u001b[0;32m      5\u001b[0m         \u001b[38;5;28;01mreturn\u001b[39;00m s[::\u001b[38;5;241m-\u001b[39m\u001b[38;5;241m1\u001b[39m]\n",
      "\u001b[1;31mValueError\u001b[0m: Lütfen string bir değer gönderin."
     ]
    }
   ],
   "source": [
    "def terscevir(s):\n",
    "    if(type(s) != str):\n",
    "        raise ValueError('Lütfen string bir değer gönderin.')\n",
    "    else:\n",
    "        return s[::-1]\n",
    "print(terscevir(8))"
   ]
  },
  {
   "cell_type": "markdown",
   "id": "1bfd228e",
   "metadata": {},
   "source": [
    "# liste = [\"345\",\"sadas\",\"324a\",\"14\",\"kemal\"] listesinin içindeki stringlerden içinde sadece rakam bulunanları try - except blokları kullanarak ekrana yazdırma "
   ]
  },
  {
   "cell_type": "code",
   "execution_count": 3,
   "id": "03859f15",
   "metadata": {},
   "outputs": [
    {
     "name": "stdout",
     "output_type": "stream",
     "text": [
      "345\n",
      "14\n"
     ]
    }
   ],
   "source": [
    "liste = [\"345\",\"sadas\",\"324a\",\"14\",\"kemal\"]\n",
    "\n",
    "for eleman in liste:\n",
    "    \n",
    "    try: \n",
    "        eleman = int(eleman)\n",
    "        print(eleman)\n",
    "    except:\n",
    "        pass # pass deyimi bir blokun hiçbir şey yapmadığı anlamına geliyor. Python'ın hata vermemesi için"
   ]
  },
  {
   "cell_type": "markdown",
   "id": "0448c7f5",
   "metadata": {},
   "source": [
    "# Bir sayının çift olup olmadığını sorgulayan bir fonksiyon yaz. Eğer sayı tek sayı ise fonksiyon raise ile ValueError hatası fırlatsın. Daha sonra, içinde çift ve tek sayılar bulunduran bir liste tanımlayıp liste içindeki çift sayıları ekrana yazdır."
   ]
  },
  {
   "cell_type": "code",
   "execution_count": 4,
   "id": "a39682d6",
   "metadata": {},
   "outputs": [
    {
     "name": "stdout",
     "output_type": "stream",
     "text": [
      "8\n",
      "24\n"
     ]
    }
   ],
   "source": [
    "def çift_mi(sayı):\n",
    "    \n",
    "    if (sayı % 2 == 0):\n",
    "        return sayı\n",
    "    else:\n",
    "        raise ValueError\n",
    "liste = [23,99,8,93,24]\n",
    "\n",
    "for i in liste:\n",
    "    try:\n",
    "        print(çift_mi(i))\n",
    "    except ValueError:\n",
    "        pass"
   ]
  },
  {
   "cell_type": "code",
   "execution_count": null,
   "id": "c640f69f",
   "metadata": {},
   "outputs": [],
   "source": []
  }
 ],
 "metadata": {
  "kernelspec": {
   "display_name": "Python 3 (ipykernel)",
   "language": "python",
   "name": "python3"
  },
  "language_info": {
   "codemirror_mode": {
    "name": "ipython",
    "version": 3
   },
   "file_extension": ".py",
   "mimetype": "text/x-python",
   "name": "python",
   "nbconvert_exporter": "python",
   "pygments_lexer": "ipython3",
   "version": "3.9.13"
  }
 },
 "nbformat": 4,
 "nbformat_minor": 5
}
