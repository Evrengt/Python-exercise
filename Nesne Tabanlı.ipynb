{
 "cells": [
  {
   "cell_type": "markdown",
   "id": "8b4942e0",
   "metadata": {},
   "source": [
    "# Çalışan (isim,maaş ve departman yazacak) ve yöneticilerin olduğu iki class "
   ]
  },
  {
   "cell_type": "code",
   "execution_count": 8,
   "id": "635dfc1e",
   "metadata": {},
   "outputs": [
    {
     "name": "stdout",
     "output_type": "stream",
     "text": [
      "İsim: Ahmet\n",
      "Maaş: 5000\n",
      "Departman: İK\n",
      "Sorumlu Kişi Sayısı: 7\n"
     ]
    }
   ],
   "source": [
    "class Çalışan():\n",
    "    \n",
    "    def __init__(self,isim,maaş,departman):\n",
    "        self.isim = isim\n",
    "        self.maaş = maaş\n",
    "        self.departman = departman\n",
    "        \n",
    "    def bilgilerigöster(self):\n",
    "        print('İsim: {}\\nMaaş: {}\\nDepartman: {}\\n'.format(self.isim,self.maaş,self.departman))\n",
    "        \n",
    "    def departman_değiştir(self,yeni_departman):\n",
    "        self.departman = yeni_departman\n",
    "        \n",
    "class Yönetici(Çalışan):\n",
    "    \n",
    "    def __init__(self,isim,maaş,departman,kişi_sayısı):\n",
    "        self.isim = isim\n",
    "        self.maaş = maaş\n",
    "        self.departman = departman\n",
    "        self.kişi_sayısı = kişi_sayısı\n",
    "        \n",
    "    def bilgilerigöster(self):\n",
    "        print('İsim: {}\\nMaaş: {}\\nDepartman: {}\\nSorumlu Kişi Sayısı: {}'.format(self.isim,self.maaş,self.departman,self.kişi_sayısı))\n",
    "        \n",
    "    def zam_yap(self,zam_miktarı):\n",
    "        self.maaş = zam_miktarı\n",
    "\n",
    "yönetici = Yönetici('Ahmet',5000,'İK',7)\n",
    "\n",
    "yönetici.bilgilerigöster()"
   ]
  },
  {
   "cell_type": "markdown",
   "id": "adcbd010",
   "metadata": {},
   "source": [
    "# Bir kitabın (ismini , yazarını , sayfa sayısını , türünü gösteren class)"
   ]
  },
  {
   "cell_type": "code",
   "execution_count": 2,
   "id": "1c60bfe9",
   "metadata": {},
   "outputs": [
    {
     "data": {
      "text/plain": [
       "'Roman'"
      ]
     },
     "execution_count": 2,
     "metadata": {},
     "output_type": "execute_result"
    }
   ],
   "source": [
    "class Kitap():\n",
    "    \n",
    "    def __init__(self,isim,yazar,sayfa_sayısı,tür):\n",
    "        self.isim = isim\n",
    "        self.yazar = yazar\n",
    "        self.sayfa_sayısı = sayfa_sayısı\n",
    "        self.tür = tür\n",
    "        \n",
    "    def __str__(self):\n",
    "        print('İsim: {}\\nYazar: {}\\nSayfa Sayısı: {}\\nTürü: {}'.format(self.isim,self.yazar,self.sayfa_sayısı,self.tür))\n",
    "        \n",
    "    def __len__(self):\n",
    "        return self.sayfa_sayısı\n",
    "    \n",
    "kitap = Kitap('Kürk Mantolu Madonna','Sabahattin Ali',400,'Roman')        "
   ]
  },
  {
   "cell_type": "code",
   "execution_count": 3,
   "id": "5aeb84b2",
   "metadata": {},
   "outputs": [
    {
     "data": {
      "text/plain": [
       "400"
      ]
     },
     "execution_count": 3,
     "metadata": {},
     "output_type": "execute_result"
    }
   ],
   "source": [
    "kitap.sayfa_sayısı"
   ]
  },
  {
   "cell_type": "code",
   "execution_count": 4,
   "id": "78f2db9f",
   "metadata": {},
   "outputs": [
    {
     "data": {
      "text/plain": [
       "'Roman'"
      ]
     },
     "execution_count": 4,
     "metadata": {},
     "output_type": "execute_result"
    }
   ],
   "source": [
    "kitap.tür"
   ]
  },
  {
   "cell_type": "markdown",
   "id": "381aad23",
   "metadata": {},
   "source": [
    "# Bir tane \"Bilgisayar\" sınıfı oluşturarak bu sınıfa metodlar ve özellikler ekleme"
   ]
  },
  {
   "cell_type": "code",
   "execution_count": 2,
   "id": "b66214ff",
   "metadata": {},
   "outputs": [],
   "source": [
    "class Bilgisayar():\n",
    "    \n",
    "    def __init__(self,model,fiyat,tür,çözünürlük):\n",
    "        self.model = model\n",
    "        self.fiyat = fiyat\n",
    "        self.tür = tür\n",
    "        self.çözünürlük = çözünürlük\n",
    "    \n",
    "    def __str__(self):\n",
    "        print('Model: {}\\nFiyat: {}\\nTür: {}\\nÇözünürlük: {}'.format(self.model,self.fiyat,self.tür,self.çözünürlük))\n",
    "        \n",
    "    def __len__(self):\n",
    "        return self.çözünürlük , self.fiyat\n",
    "    \n",
    "bilgisayar = Bilgisayar('Monster',17000,'Laptop','1080p')"
   ]
  },
  {
   "cell_type": "code",
   "execution_count": 3,
   "id": "f16512a1",
   "metadata": {},
   "outputs": [
    {
     "data": {
      "text/plain": [
       "'1080p'"
      ]
     },
     "execution_count": 3,
     "metadata": {},
     "output_type": "execute_result"
    }
   ],
   "source": [
    "bilgisayar.çözünürlük"
   ]
  },
  {
   "cell_type": "markdown",
   "id": "c9d3d3c4",
   "metadata": {},
   "source": [
    "# Hayvan , köpek , kuş , at adında 4 sınıf oluşturup Hayvan dışındaki classları miras alan class yapma"
   ]
  },
  {
   "cell_type": "code",
   "execution_count": 4,
   "id": "ba485393",
   "metadata": {},
   "outputs": [],
   "source": [
    "class Hayvanlar():\n",
    "    \n",
    "    def __init__(self,isim,tür,yaşam_alanı):\n",
    "        self.isim = isim\n",
    "        self.tür = tür\n",
    "        self.yaşam_alanı = yaşam_alanı\n",
    "            \n",
    "    def bilgilerigöster(self):\n",
    "        print('İsim: {}\\nTür: {}\\nYaşam Alanı: {} '.format(self.isim,self.tür,self.yaşam_alanı))\n",
    "        \n",
    "class Köpek(Hayvanlar):\n",
    "    \n",
    "    def __init__(self,isim,cins,yaş):\n",
    "        self.isim = isim\n",
    "        self.cins = cins\n",
    "        self.yaş = yaş\n",
    "    \n",
    "    def bilgilerigöster(self):\n",
    "        print('İsim: {}\\nCins: {}\\nYaş: {}'.format(self.isim,self.cins,self.yaş))\n",
    "        \n",
    "class Kuş(Hayvanlar):\n",
    "    \n",
    "    def __init__(self,isim,cins,uçabilirlik):\n",
    "        self.isim = isim\n",
    "        self.cins = cins\n",
    "        self.uçabilirlik = uçabilirlik\n",
    "        \n",
    "    def bilgilerigöster(self):\n",
    "        print('İsim: {}\\nCins: {}\\nUçabilirlik: {}'.format(self.isim,self.cins,self.uçabilirlik))\n",
    "        \n",
    "    \n",
    "class At(Hayvanlar):\n",
    "    \n",
    "    def __init__(self,isim,cins,hız):\n",
    "        self.isim = isim\n",
    "        self.cins = cins\n",
    "        self.hız = hız\n",
    "        \n",
    "    def bilgilerigöster(self):\n",
    "        print('İsim: {}\\nCins: {}\\nHız: {}'.format(self.isim,self.cins,self.hız))\n",
    "        "
   ]
  },
  {
   "cell_type": "markdown",
   "id": "a8e5b56e",
   "metadata": {},
   "source": [
    "# KUMANDA GELİŞTİRME"
   ]
  },
  {
   "cell_type": "code",
   "execution_count": 1,
   "id": "82176ebd",
   "metadata": {},
   "outputs": [
    {
     "name": "stdout",
     "output_type": "stream",
     "text": [
      "Kumanda Oluşturuluyor...\n",
      "*******************\n",
      "\n",
      "Televizyon Uygulaması\n",
      "\n",
      "İşlemler ;\n",
      "\n",
      "1. Televizyonu Aç\n",
      "\n",
      "2. Televizyonu Kapat\n",
      "\n",
      "3. Televizyon Bilgileri\n",
      "\n",
      "4. Kanal Sayısını Öğrenme\n",
      "\n",
      "5. Kanal Ekle\n",
      "\n",
      "6. Rastgele Kanal'a Geç\n",
      "\n",
      "7. Sesi Azalt Ya da Artır\n",
      "Çıkmak için 'q' ya basın.\n",
      "*******************\n",
      "İşlemi Seçiniz:5\n",
      "Eklemek İstediğiniz Kanalları ',' ile ayırarak girin:kanald,kanala,kanalb\n",
      "Kanal Eklendi  kanald\n",
      "Kanal Eklendi  kanala\n",
      "Kanal Eklendi  kanalb\n",
      "Kanal Listesi Başarıyla Güncellendi.\n",
      "İşlemi Seçiniz:2\n",
      "Tv kapatılıyor.\n",
      "İşlemi Seçiniz:1\n",
      "Tv Açılıyor.\n",
      "İşlemi Seçiniz:4\n",
      "Kanal Sayısı:  4\n",
      "İşlemi Seçiniz:7\n",
      "Azaltmak için '<' Artırmak İçin '>' Tamam ise 'q' ya basın>\n",
      "Ses: 1\n",
      "Azaltmak için '<' Artırmak İçin '>' Tamam ise 'q' ya basın>\n",
      "Ses: 2\n",
      "Azaltmak için '<' Artırmak İçin '>' Tamam ise 'q' ya basınq\n",
      "Ses Güncellendi: 2\n",
      "İşlemi Seçiniz:q\n",
      "Programdan Çıkılıyor...\n"
     ]
    }
   ],
   "source": [
    "import random\n",
    "import time\n",
    "\n",
    "class Kumanda():\n",
    "\n",
    "    def __init__(self,tv_durum = \"Kapalı\",tv_ses = 0,kanal_listesi = [\"Trt\"],kanal = \"Trt\"):\n",
    "        print(\"Kumanda Oluşturuluyor...\")\n",
    "\n",
    "        self.tv_ses =  tv_ses\n",
    "\n",
    "        self.tv_durum = tv_durum\n",
    "\n",
    "        self.kanal_listesi = kanal_listesi\n",
    "\n",
    "        self.kanal = kanal\n",
    "    def sesi_azalt_artir(self):\n",
    "\n",
    "        while True:\n",
    "            karakter = input(\"Azaltmak için '<' Artırmak İçin '>' Tamam ise 'q' ya basın\")\n",
    "\n",
    "            if (karakter == \"<\"):\n",
    "                if (self.tv_ses != 0):\n",
    "                    self.tv_ses -= 1\n",
    "                    print(\"Ses:\",self.tv_ses)\n",
    "            elif (karakter == \">\"):\n",
    "                if (self.tv_ses != 32):\n",
    "                    self.tv_ses += 1\n",
    "                    print(\"Ses:\",self.tv_ses)\n",
    "            else:\n",
    "                print(\"Ses Güncellendi:\",self.tv_ses)\n",
    "                break\n",
    "    def tv_kapat(self):\n",
    "        print(\"Tv kapatılıyor.\")\n",
    "\n",
    "        self.tv_durum = \"Kapalı\"\n",
    "    def tv_aç(self):\n",
    "        print(\"Tv Açılıyor.\")\n",
    "        self.tv_durum = \"Açık\"\n",
    "    def __str__(self):\n",
    "        return \"Tv Durumu : {}\\nSes: {}\\nKanallar: {}\\nŞu anki kanal: {}\\n\".format(self.tv_durum,self.tv_ses,self.kanal_listesi,self.kanal)\n",
    "    def __len__(self):\n",
    "        return  len(self.kanal_listesi)\n",
    "\n",
    "    def rastgele_kanal(self):\n",
    "        rastgele = random.randint(0,len(self.kanal_listesi)-1)\n",
    "\n",
    "        self.kanal = self.kanal_listesi[rastgele]\n",
    "\n",
    "        print(\"Şu anki Kanal:\", self.kanal)\n",
    "    def kanal_ekle(self,kanal):\n",
    "        print(\"Kanal Eklendi \",kanal)\n",
    "        self.kanal_listesi.append(kanal)\n",
    "\n",
    "\n",
    "kumanda = Kumanda()\n",
    "print(\"\"\"*******************\n",
    "\n",
    "Televizyon Uygulaması\n",
    "\n",
    "İşlemler ;\n",
    "\n",
    "1. Televizyonu Aç\n",
    "\n",
    "2. Televizyonu Kapat\n",
    "\n",
    "3. Televizyon Bilgileri\n",
    "\n",
    "4. Kanal Sayısını Öğrenme\n",
    "\n",
    "5. Kanal Ekle\n",
    "\n",
    "6. Rastgele Kanal'a Geç\n",
    "\n",
    "7. Sesi Azalt Ya da Artır\n",
    "Çıkmak için 'q' ya basın.\n",
    "*******************\"\"\")\n",
    "\n",
    "while True:\n",
    "\n",
    "    işlem = input(\"İşlemi Seçiniz:\")\n",
    "    if (işlem == \"q\"):\n",
    "        print(\"Programdan Çıkılıyor...\")\n",
    "        break\n",
    "    if (işlem == \"1\"):\n",
    "        kumanda.tv_aç()\n",
    "    elif (işlem == \"2\"):\n",
    "        kumanda.tv_kapat()\n",
    "    elif (işlem == \"3\"):\n",
    "        print(kumanda)\n",
    "    elif (işlem == \"4\"):\n",
    "        print(\"Kanal Sayısı: \",len(kumanda))\n",
    "    elif (işlem == \"5\"):\n",
    "        kanallar = input(\"Eklemek İstediğiniz Kanalları ',' ile ayırarak girin:\")\n",
    "        eklenecekler = kanallar.split(\",\")\n",
    "        for i in eklenecekler:\n",
    "\n",
    "            kumanda.kanal_ekle(i)\n",
    "        print(\"Kanal Listesi Başarıyla Güncellendi.\")\n",
    "    elif (işlem == \"6\"):\n",
    "        kumanda.rastgele_kanal()\n",
    "    elif (işlem == \"7\"):\n",
    "        kumanda.sesi_azalt_artir()\n",
    "    else:\n",
    "        print(\"Geçersiz İşlem...\")"
   ]
  }
 ],
 "metadata": {
  "kernelspec": {
   "display_name": "Python 3 (ipykernel)",
   "language": "python",
   "name": "python3"
  },
  "language_info": {
   "codemirror_mode": {
    "name": "ipython",
    "version": 3
   },
   "file_extension": ".py",
   "mimetype": "text/x-python",
   "name": "python",
   "nbconvert_exporter": "python",
   "pygments_lexer": "ipython3",
   "version": "3.9.13"
  }
 },
 "nbformat": 4,
 "nbformat_minor": 5
}
